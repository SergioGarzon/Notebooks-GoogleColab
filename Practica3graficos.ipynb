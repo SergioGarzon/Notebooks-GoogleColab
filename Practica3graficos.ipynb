{
 "cells": [
  {
   "cell_type": "code",
   "execution_count": 173,
   "id": "51e86a23-2b3a-4b29-a470-791f28f283a8",
   "metadata": {},
   "outputs": [],
   "source": [
    "import pandas as pd"
   ]
  },
  {
   "cell_type": "code",
   "execution_count": 174,
   "id": "e307811d-5555-4922-bef4-414ca7303e5d",
   "metadata": {},
   "outputs": [],
   "source": [
    "import numpy as np"
   ]
  },
  {
   "cell_type": "code",
   "execution_count": 175,
   "id": "200850af-6a69-4e9a-ab3e-eaca5463ea2d",
   "metadata": {},
   "outputs": [],
   "source": [
    "import matplotlib.pyplot as plt,seaborn as sns"
   ]
  },
  {
   "cell_type": "code",
   "execution_count": 176,
   "id": "f1da50ed-df93-42c6-b1e4-e6a84d42d35d",
   "metadata": {},
   "outputs": [],
   "source": [
    "import datetime\n",
    "import os"
   ]
  },
  {
   "cell_type": "code",
   "execution_count": 177,
   "id": "fa94f55d-8791-4031-9e8b-0c62ac99ea4d",
   "metadata": {},
   "outputs": [],
   "source": [
    "%matplotlib inline "
   ]
  },
  {
   "cell_type": "code",
   "execution_count": 178,
   "id": "732a7dae-a8b7-4500-91f4-c4b469230ac2",
   "metadata": {},
   "outputs": [],
   "source": [
    "os.chdir('C:/Users/Ana/Desktop/ap3')"
   ]
  },
  {
   "cell_type": "code",
   "execution_count": 179,
   "id": "55c3796f-512a-4202-aa4c-f4637b076746",
   "metadata": {},
   "outputs": [],
   "source": [
    "df_exportaciones=pd.read_csv('exportaciones.csv',encoding='latin1')"
   ]
  },
  {
   "cell_type": "code",
   "execution_count": 180,
   "id": "ddf41ba1-3f15-46a4-ad51-b3ba06313f03",
   "metadata": {},
   "outputs": [],
   "source": [
    "df_poblacion=pd.read_csv('poblacion.csv',encoding='latin1')"
   ]
  },
  {
   "cell_type": "code",
   "execution_count": 181,
   "id": "5f40729e-d500-4fd0-87fb-fed6e008f50c",
   "metadata": {},
   "outputs": [],
   "source": [
    "df_empleo=pd.read_csv('empleo.csv',encoding='latin1')"
   ]
  },
  {
   "cell_type": "code",
   "execution_count": 182,
   "id": "089e8e14-8c4d-4fd7-aa60-e47d3b968b7a",
   "metadata": {},
   "outputs": [],
   "source": [
    "df_hogares_viviendas_superficie=pd.read_csv('hogares_viviendas_superficie.csv',encoding='latin1')"
   ]
  },
  {
   "cell_type": "code",
   "execution_count": 183,
   "id": "51e737f8-2146-4e02-9b69-c175f1f2fc7e",
   "metadata": {},
   "outputs": [
    {
     "name": "stdout",
     "output_type": "stream",
     "text": [
      "la cantidad de filas y de columnas son:\n"
     ]
    },
    {
     "data": {
      "text/plain": [
       "(2000, 4)"
      ]
     },
     "execution_count": 183,
     "metadata": {},
     "output_type": "execute_result"
    }
   ],
   "source": [
    "print('la cantidad de filas y de columnas son:')\n",
    "df_exportaciones.shape"
   ]
  },
  {
   "cell_type": "code",
   "execution_count": 188,
   "id": "174e671c-f2e2-4715-bb20-48b4c519e508",
   "metadata": {},
   "outputs": [
    {
     "name": "stdout",
     "output_type": "stream",
     "text": [
      "Primera filas del dataset\n"
     ]
    },
    {
     "data": {
      "text/html": [
       "<div>\n",
       "<style scoped>\n",
       "    .dataframe tbody tr th:only-of-type {\n",
       "        vertical-align: middle;\n",
       "    }\n",
       "\n",
       "    .dataframe tbody tr th {\n",
       "        vertical-align: top;\n",
       "    }\n",
       "\n",
       "    .dataframe thead th {\n",
       "        text-align: right;\n",
       "    }\n",
       "</style>\n",
       "<table border=\"1\" class=\"dataframe\">\n",
       "  <thead>\n",
       "    <tr style=\"text-align: right;\">\n",
       "      <th></th>\n",
       "      <th>rubro</th>\n",
       "      <th>provincia</th>\n",
       "      <th>anio</th>\n",
       "      <th>value</th>\n",
       "    </tr>\n",
       "  </thead>\n",
       "  <tbody>\n",
       "    <tr>\n",
       "      <th>0</th>\n",
       "      <td>Total</td>\n",
       "      <td>Total País</td>\n",
       "      <td>2005</td>\n",
       "      <td>40386.762</td>\n",
       "    </tr>\n",
       "    <tr>\n",
       "      <th>1</th>\n",
       "      <td>Total</td>\n",
       "      <td>Buenos Aires</td>\n",
       "      <td>2005</td>\n",
       "      <td>15626.865</td>\n",
       "    </tr>\n",
       "    <tr>\n",
       "      <th>2</th>\n",
       "      <td>Total</td>\n",
       "      <td>Capital Federal</td>\n",
       "      <td>2005</td>\n",
       "      <td>271.295</td>\n",
       "    </tr>\n",
       "    <tr>\n",
       "      <th>3</th>\n",
       "      <td>Total</td>\n",
       "      <td>Córdoba</td>\n",
       "      <td>2005</td>\n",
       "      <td>4452.178</td>\n",
       "    </tr>\n",
       "    <tr>\n",
       "      <th>4</th>\n",
       "      <td>Total</td>\n",
       "      <td>Entre Ríos</td>\n",
       "      <td>2005</td>\n",
       "      <td>815.341</td>\n",
       "    </tr>\n",
       "  </tbody>\n",
       "</table>\n",
       "</div>"
      ],
      "text/plain": [
       "   rubro        provincia  anio      value\n",
       "0  Total       Total País  2005  40386.762\n",
       "1  Total     Buenos Aires  2005  15626.865\n",
       "2  Total  Capital Federal  2005    271.295\n",
       "3  Total          Córdoba  2005   4452.178\n",
       "4  Total       Entre Ríos  2005    815.341"
      ]
     },
     "execution_count": 188,
     "metadata": {},
     "output_type": "execute_result"
    }
   ],
   "source": [
    "print('Primera filas del dataset')\n",
    "df_exportaciones.head()"
   ]
  },
  {
   "cell_type": "code",
   "execution_count": 189,
   "id": "8a2d5167-006e-48ba-a5ab-11e8cbbec6a1",
   "metadata": {},
   "outputs": [
    {
     "name": "stdout",
     "output_type": "stream",
     "text": [
      "tipo de datos del dataset\n"
     ]
    },
    {
     "data": {
      "text/plain": [
       "rubro        object\n",
       "provincia    object\n",
       "anio          int64\n",
       "value        object\n",
       "dtype: object"
      ]
     },
     "execution_count": 189,
     "metadata": {},
     "output_type": "execute_result"
    }
   ],
   "source": [
    "print('tipo de datos del dataset')\n",
    "df_exportaciones.dtypes"
   ]
  },
  {
   "cell_type": "code",
   "execution_count": 190,
   "id": "4bfabac6-2779-40b9-98a4-0e0b8b76b31e",
   "metadata": {},
   "outputs": [
    {
     "name": "stdout",
     "output_type": "stream",
     "text": [
      "valores faltantes por columnas\n"
     ]
    },
    {
     "data": {
      "text/plain": [
       "rubro        0\n",
       "provincia    0\n",
       "anio         0\n",
       "value        0\n",
       "dtype: int64"
      ]
     },
     "execution_count": 190,
     "metadata": {},
     "output_type": "execute_result"
    }
   ],
   "source": [
    "print('valores faltantes por columnas')\n",
    "df_exportaciones.isnull().sum()"
   ]
  },
  {
   "cell_type": "code",
   "execution_count": 192,
   "id": "49d27b3f-3b05-4918-9c48-0c1f09106b17",
   "metadata": {},
   "outputs": [
    {
     "name": "stdout",
     "output_type": "stream",
     "text": [
      "la cantidad de filas y columnas son:\n"
     ]
    },
    {
     "data": {
      "text/plain": [
       "(775, 5)"
      ]
     },
     "execution_count": 192,
     "metadata": {},
     "output_type": "execute_result"
    }
   ],
   "source": [
    "print('la cantidad de filas y columnas son:')\n",
    "df_poblacion.shape"
   ]
  },
  {
   "cell_type": "code",
   "execution_count": 194,
   "id": "483b8bfe-a96c-4ad4-998c-39a02e6cbc91",
   "metadata": {},
   "outputs": [
    {
     "name": "stdout",
     "output_type": "stream",
     "text": [
      "Primeras filas del dataset\n"
     ]
    },
    {
     "data": {
      "text/html": [
       "<div>\n",
       "<style scoped>\n",
       "    .dataframe tbody tr th:only-of-type {\n",
       "        vertical-align: middle;\n",
       "    }\n",
       "\n",
       "    .dataframe tbody tr th {\n",
       "        vertical-align: top;\n",
       "    }\n",
       "\n",
       "    .dataframe thead th {\n",
       "        text-align: right;\n",
       "    }\n",
       "</style>\n",
       "<table border=\"1\" class=\"dataframe\">\n",
       "  <thead>\n",
       "    <tr style=\"text-align: right;\">\n",
       "      <th></th>\n",
       "      <th>provincia</th>\n",
       "      <th>anio</th>\n",
       "      <th>poblacion_total</th>\n",
       "      <th>poblacion_varones</th>\n",
       "      <th>poblacion_mujeres</th>\n",
       "    </tr>\n",
       "  </thead>\n",
       "  <tbody>\n",
       "    <tr>\n",
       "      <th>0</th>\n",
       "      <td>Total País</td>\n",
       "      <td>2010</td>\n",
       "      <td>40788453</td>\n",
       "      <td>19940704</td>\n",
       "      <td>20847749</td>\n",
       "    </tr>\n",
       "    <tr>\n",
       "      <th>1</th>\n",
       "      <td>Total País</td>\n",
       "      <td>2011</td>\n",
       "      <td>41261490</td>\n",
       "      <td>20180791</td>\n",
       "      <td>21080699</td>\n",
       "    </tr>\n",
       "    <tr>\n",
       "      <th>2</th>\n",
       "      <td>Total País</td>\n",
       "      <td>2012</td>\n",
       "      <td>41733271</td>\n",
       "      <td>20420391</td>\n",
       "      <td>21312880</td>\n",
       "    </tr>\n",
       "    <tr>\n",
       "      <th>3</th>\n",
       "      <td>Total País</td>\n",
       "      <td>2013</td>\n",
       "      <td>42202935</td>\n",
       "      <td>20659037</td>\n",
       "      <td>21543898</td>\n",
       "    </tr>\n",
       "    <tr>\n",
       "      <th>4</th>\n",
       "      <td>Total País</td>\n",
       "      <td>2014</td>\n",
       "      <td>42669500</td>\n",
       "      <td>20896203</td>\n",
       "      <td>21773297</td>\n",
       "    </tr>\n",
       "  </tbody>\n",
       "</table>\n",
       "</div>"
      ],
      "text/plain": [
       "    provincia  anio  poblacion_total  poblacion_varones  poblacion_mujeres\n",
       "0  Total País  2010         40788453           19940704           20847749\n",
       "1  Total País  2011         41261490           20180791           21080699\n",
       "2  Total País  2012         41733271           20420391           21312880\n",
       "3  Total País  2013         42202935           20659037           21543898\n",
       "4  Total País  2014         42669500           20896203           21773297"
      ]
     },
     "execution_count": 194,
     "metadata": {},
     "output_type": "execute_result"
    }
   ],
   "source": [
    "print('Primeras filas del dataset')\n",
    "df_poblacion.head()"
   ]
  },
  {
   "cell_type": "code",
   "execution_count": 198,
   "id": "40fc6e1b-d210-437b-b3d9-3be7d121481b",
   "metadata": {},
   "outputs": [
    {
     "name": "stdout",
     "output_type": "stream",
     "text": [
      "tipos del de datos del dataset\n"
     ]
    },
    {
     "data": {
      "text/plain": [
       "provincia            object\n",
       "anio                  int64\n",
       "poblacion_total       int64\n",
       "poblacion_varones     int64\n",
       "poblacion_mujeres     int64\n",
       "dtype: object"
      ]
     },
     "execution_count": 198,
     "metadata": {},
     "output_type": "execute_result"
    }
   ],
   "source": [
    "print('tipos del de datos del dataset')\n",
    "df_poblacion.dtypes\n"
   ]
  },
  {
   "cell_type": "code",
   "execution_count": 199,
   "id": "f3bcda04-c986-4013-a873-e76826656ba6",
   "metadata": {},
   "outputs": [
    {
     "name": "stdout",
     "output_type": "stream",
     "text": [
      "valores faltantes por columnas\n"
     ]
    },
    {
     "data": {
      "text/plain": [
       "provincia            0\n",
       "anio                 0\n",
       "poblacion_total      0\n",
       "poblacion_varones    0\n",
       "poblacion_mujeres    0\n",
       "dtype: int64"
      ]
     },
     "execution_count": 199,
     "metadata": {},
     "output_type": "execute_result"
    }
   ],
   "source": [
    "print('valores faltantes por columnas')\n",
    "df_poblacion.isnull().sum()"
   ]
  },
  {
   "cell_type": "code",
   "execution_count": 201,
   "id": "cbeeb259-daf0-4cb0-9413-b3687bb1eee5",
   "metadata": {},
   "outputs": [
    {
     "name": "stdout",
     "output_type": "stream",
     "text": [
      "primeras filas del datset\n"
     ]
    },
    {
     "data": {
      "text/html": [
       "<div>\n",
       "<style scoped>\n",
       "    .dataframe tbody tr th:only-of-type {\n",
       "        vertical-align: middle;\n",
       "    }\n",
       "\n",
       "    .dataframe tbody tr th {\n",
       "        vertical-align: top;\n",
       "    }\n",
       "\n",
       "    .dataframe thead th {\n",
       "        text-align: right;\n",
       "    }\n",
       "</style>\n",
       "<table border=\"1\" class=\"dataframe\">\n",
       "  <thead>\n",
       "    <tr style=\"text-align: right;\">\n",
       "      <th></th>\n",
       "      <th>provincia</th>\n",
       "      <th>anio</th>\n",
       "      <th>mes</th>\n",
       "      <th>empleados_registrados_miles</th>\n",
       "    </tr>\n",
       "  </thead>\n",
       "  <tbody>\n",
       "    <tr>\n",
       "      <th>0</th>\n",
       "      <td>Buenos Aires</td>\n",
       "      <td>2009</td>\n",
       "      <td>ene-09</td>\n",
       "      <td>1787.640</td>\n",
       "    </tr>\n",
       "    <tr>\n",
       "      <th>1</th>\n",
       "      <td>Buenos Aires</td>\n",
       "      <td>2009</td>\n",
       "      <td>feb-09</td>\n",
       "      <td>1769.223</td>\n",
       "    </tr>\n",
       "    <tr>\n",
       "      <th>2</th>\n",
       "      <td>Buenos Aires</td>\n",
       "      <td>2009</td>\n",
       "      <td>mar-09</td>\n",
       "      <td>1745.913</td>\n",
       "    </tr>\n",
       "    <tr>\n",
       "      <th>3</th>\n",
       "      <td>Buenos Aires</td>\n",
       "      <td>2009</td>\n",
       "      <td>abr-09</td>\n",
       "      <td>1729.917</td>\n",
       "    </tr>\n",
       "    <tr>\n",
       "      <th>4</th>\n",
       "      <td>Buenos Aires</td>\n",
       "      <td>2009</td>\n",
       "      <td>may-09</td>\n",
       "      <td>1723.218</td>\n",
       "    </tr>\n",
       "  </tbody>\n",
       "</table>\n",
       "</div>"
      ],
      "text/plain": [
       "      provincia  anio     mes  empleados_registrados_miles\n",
       "0  Buenos Aires  2009  ene-09                     1787.640\n",
       "1  Buenos Aires  2009  feb-09                     1769.223\n",
       "2  Buenos Aires  2009  mar-09                     1745.913\n",
       "3  Buenos Aires  2009  abr-09                     1729.917\n",
       "4  Buenos Aires  2009  may-09                     1723.218"
      ]
     },
     "execution_count": 201,
     "metadata": {},
     "output_type": "execute_result"
    }
   ],
   "source": [
    "print('primeras filas del datset')\n",
    "df_empleo.head()"
   ]
  },
  {
   "cell_type": "code",
   "execution_count": 203,
   "id": "776541b3-5a47-4068-94fa-9720d429faf5",
   "metadata": {},
   "outputs": [
    {
     "name": "stdout",
     "output_type": "stream",
     "text": [
      "cantidad de filas y columnas son:\n"
     ]
    },
    {
     "data": {
      "text/plain": [
       "(3696, 4)"
      ]
     },
     "execution_count": 203,
     "metadata": {},
     "output_type": "execute_result"
    }
   ],
   "source": [
    "print('cantidad de filas y columnas son:')\n",
    "df_empleo.shape"
   ]
  },
  {
   "cell_type": "code",
   "execution_count": 207,
   "id": "50f3dc68-119c-4fad-b63e-ba0d23a9fcfc",
   "metadata": {},
   "outputs": [
    {
     "name": "stdout",
     "output_type": "stream",
     "text": [
      "tipos de datos del dataset\n"
     ]
    },
    {
     "data": {
      "text/plain": [
       "provincia                       object\n",
       "anio                             int64\n",
       "mes                             object\n",
       "empleados_registrados_miles    float64\n",
       "dtype: object"
      ]
     },
     "execution_count": 207,
     "metadata": {},
     "output_type": "execute_result"
    }
   ],
   "source": [
    "print('tipos de datos del dataset')\n",
    "df_empleo.dtypes"
   ]
  },
  {
   "cell_type": "code",
   "execution_count": 209,
   "id": "637c1b6e-1249-41fc-95f9-01e7023ac4a2",
   "metadata": {},
   "outputs": [
    {
     "name": "stdout",
     "output_type": "stream",
     "text": [
      "valores faltantes por columnas\n"
     ]
    },
    {
     "data": {
      "text/plain": [
       "provincia                      0\n",
       "anio                           0\n",
       "mes                            0\n",
       "empleados_registrados_miles    0\n",
       "dtype: int64"
      ]
     },
     "execution_count": 209,
     "metadata": {},
     "output_type": "execute_result"
    }
   ],
   "source": [
    "print('valores faltantes por columnas')\n",
    "df_empleo.isnull().sum()"
   ]
  },
  {
   "cell_type": "code",
   "execution_count": 211,
   "id": "c9c62ed6-abea-45a5-8b91-b715c4c07280",
   "metadata": {},
   "outputs": [
    {
     "name": "stdout",
     "output_type": "stream",
     "text": [
      "la cantidad de filas y columnas son:\n"
     ]
    },
    {
     "data": {
      "text/plain": [
       "(24, 6)"
      ]
     },
     "execution_count": 211,
     "metadata": {},
     "output_type": "execute_result"
    }
   ],
   "source": [
    "print('la cantidad de filas y columnas son:')\n",
    "df_hogares_viviendas_superficie.shape"
   ]
  },
  {
   "cell_type": "code",
   "execution_count": 217,
   "id": "b5fffd6e-3afa-4004-8bd7-7938e9b46716",
   "metadata": {},
   "outputs": [
    {
     "name": "stdout",
     "output_type": "stream",
     "text": [
      "las primeras filas y columnas son:\n"
     ]
    },
    {
     "data": {
      "text/html": [
       "<div>\n",
       "<style scoped>\n",
       "    .dataframe tbody tr th:only-of-type {\n",
       "        vertical-align: middle;\n",
       "    }\n",
       "\n",
       "    .dataframe tbody tr th {\n",
       "        vertical-align: top;\n",
       "    }\n",
       "\n",
       "    .dataframe thead th {\n",
       "        text-align: right;\n",
       "    }\n",
       "</style>\n",
       "<table border=\"1\" class=\"dataframe\">\n",
       "  <thead>\n",
       "    <tr style=\"text-align: right;\">\n",
       "      <th></th>\n",
       "      <th>provincia_id</th>\n",
       "      <th>provincia</th>\n",
       "      <th>hogares</th>\n",
       "      <th>viviendas_particulares</th>\n",
       "      <th>viviendas_particulares_habitadas</th>\n",
       "      <th>superficie_km2</th>\n",
       "    </tr>\n",
       "  </thead>\n",
       "  <tbody>\n",
       "    <tr>\n",
       "      <th>0</th>\n",
       "      <td>2</td>\n",
       "      <td>Capital Federal</td>\n",
       "      <td>1150134</td>\n",
       "      <td>1423973</td>\n",
       "      <td>1082998</td>\n",
       "      <td>200</td>\n",
       "    </tr>\n",
       "    <tr>\n",
       "      <th>1</th>\n",
       "      <td>6</td>\n",
       "      <td>Buenos Aires</td>\n",
       "      <td>4789484</td>\n",
       "      <td>5377786</td>\n",
       "      <td>4425193</td>\n",
       "      <td>307571</td>\n",
       "    </tr>\n",
       "    <tr>\n",
       "      <th>2</th>\n",
       "      <td>10</td>\n",
       "      <td>Catamarca</td>\n",
       "      <td>96001</td>\n",
       "      <td>113634</td>\n",
       "      <td>89376</td>\n",
       "      <td>102602</td>\n",
       "    </tr>\n",
       "    <tr>\n",
       "      <th>3</th>\n",
       "      <td>14</td>\n",
       "      <td>Córdoba</td>\n",
       "      <td>1031843</td>\n",
       "      <td>1232211</td>\n",
       "      <td>978553</td>\n",
       "      <td>165321</td>\n",
       "    </tr>\n",
       "    <tr>\n",
       "      <th>4</th>\n",
       "      <td>18</td>\n",
       "      <td>Corrientes</td>\n",
       "      <td>267797</td>\n",
       "      <td>292644</td>\n",
       "      <td>248844</td>\n",
       "      <td>88199</td>\n",
       "    </tr>\n",
       "  </tbody>\n",
       "</table>\n",
       "</div>"
      ],
      "text/plain": [
       "   provincia_id        provincia  hogares  viviendas_particulares  \\\n",
       "0             2  Capital Federal  1150134                 1423973   \n",
       "1             6     Buenos Aires  4789484                 5377786   \n",
       "2            10        Catamarca    96001                  113634   \n",
       "3            14          Córdoba  1031843                 1232211   \n",
       "4            18       Corrientes   267797                  292644   \n",
       "\n",
       "   viviendas_particulares_habitadas  superficie_km2  \n",
       "0                           1082998             200  \n",
       "1                           4425193          307571  \n",
       "2                             89376          102602  \n",
       "3                            978553          165321  \n",
       "4                            248844           88199  "
      ]
     },
     "execution_count": 217,
     "metadata": {},
     "output_type": "execute_result"
    }
   ],
   "source": [
    "print('las primeras filas y columnas son:')\n",
    "df_hogares_viviendas_superficie.head()\n",
    "\n"
   ]
  },
  {
   "cell_type": "code",
   "execution_count": 218,
   "id": "1df11f79-baf5-4a51-85cd-ceb7ce8304e5",
   "metadata": {},
   "outputs": [
    {
     "name": "stdout",
     "output_type": "stream",
     "text": [
      "tipos de datos del dataset\n"
     ]
    },
    {
     "data": {
      "text/plain": [
       "provincia_id                         int64\n",
       "provincia                           object\n",
       "hogares                              int64\n",
       "viviendas_particulares               int64\n",
       "viviendas_particulares_habitadas     int64\n",
       "superficie_km2                       int64\n",
       "dtype: object"
      ]
     },
     "execution_count": 218,
     "metadata": {},
     "output_type": "execute_result"
    }
   ],
   "source": [
    "print('tipos de datos del dataset')\n",
    "df_hogares_viviendas_superficie.dtypes"
   ]
  },
  {
   "cell_type": "code",
   "execution_count": 260,
   "id": "1fa807f7-d5e0-47b9-a2a7-81863f985152",
   "metadata": {},
   "outputs": [
    {
     "name": "stdout",
     "output_type": "stream",
     "text": [
      "valores faltantes por columnas\n"
     ]
    },
    {
     "data": {
      "text/plain": [
       "<bound method DataFrame.sum of     provincia_id  provincia  hogares  viviendas_particulares  \\\n",
       "0          False      False    False                   False   \n",
       "1          False      False    False                   False   \n",
       "2          False      False    False                   False   \n",
       "3          False      False    False                   False   \n",
       "4          False      False    False                   False   \n",
       "5          False      False    False                   False   \n",
       "6          False      False    False                   False   \n",
       "7          False      False    False                   False   \n",
       "8          False      False    False                   False   \n",
       "9          False      False    False                   False   \n",
       "10         False      False    False                   False   \n",
       "11         False      False    False                   False   \n",
       "12         False      False    False                   False   \n",
       "13         False      False    False                   False   \n",
       "14         False      False    False                   False   \n",
       "15         False      False    False                   False   \n",
       "16         False      False    False                   False   \n",
       "17         False      False    False                   False   \n",
       "18         False      False    False                   False   \n",
       "19         False      False    False                   False   \n",
       "20         False      False    False                   False   \n",
       "21         False      False    False                   False   \n",
       "22         False      False    False                   False   \n",
       "23         False      False    False                   False   \n",
       "\n",
       "    viviendas_particulares_habitadas  superficie_km2  \n",
       "0                              False           False  \n",
       "1                              False           False  \n",
       "2                              False           False  \n",
       "3                              False           False  \n",
       "4                              False           False  \n",
       "5                              False           False  \n",
       "6                              False           False  \n",
       "7                              False           False  \n",
       "8                              False           False  \n",
       "9                              False           False  \n",
       "10                             False           False  \n",
       "11                             False           False  \n",
       "12                             False           False  \n",
       "13                             False           False  \n",
       "14                             False           False  \n",
       "15                             False           False  \n",
       "16                             False           False  \n",
       "17                             False           False  \n",
       "18                             False           False  \n",
       "19                             False           False  \n",
       "20                             False           False  \n",
       "21                             False           False  \n",
       "22                             False           False  \n",
       "23                             False           False  >"
      ]
     },
     "execution_count": 260,
     "metadata": {},
     "output_type": "execute_result"
    }
   ],
   "source": [
    "print('valores faltantes por columnas')\n",
    "df_hogares_viviendas_superficie.isnull().sum"
   ]
  },
  {
   "cell_type": "code",
   "execution_count": 276,
   "id": "04a516a6-f1b5-4207-b1bf-727c2688a938",
   "metadata": {},
   "outputs": [
    {
     "data": {
      "text/plain": [
       "<function matplotlib.pyplot.show(close=None, block=None)>"
      ]
     },
     "execution_count": 276,
     "metadata": {},
     "output_type": "execute_result"
    },
    {
     "data": {
      "image/png": "[encoded data removed]",
      "text/plain": [
       "<Figure size 1000x600 with 1 Axes>"
      ]
     },
     "metadata": {},
     "output_type": "display_data"
    }
   ],
   "source": [
    "# histograma de la tabla empleo  veo la distribucion de los datos a lo largo  de su recorrido, donde puedover su informacion \n",
    "plt.figure(figsize=(10,6))\n",
    "plt.hist(df_empleo [ 'provincia'],bins=20,color= 'lightgreen',edgecolor='k')\n",
    "plt.title('histograma de empleo')\n",
    "plt.xlabel( 'provincias')\n",
    "plt.ylabel('empleados registrados ')\n",
    "plt.show\n"
   ]
  },
  {
   "cell_type": "code",
   "execution_count": 277,
   "id": "eff69cb7-1faf-41e0-891c-053393ae54d6",
   "metadata": {},
   "outputs": [
    {
     "ename": "AttributeError",
     "evalue": "module 'pandas' has no attribute 'dataframe'",
     "output_type": "error",
     "traceback": [
      "\u001b[1;31m---------------------------------------------------------------------------\u001b[0m",
      "\u001b[1;31mAttributeError\u001b[0m                            Traceback (most recent call last)",
      "Cell \u001b[1;32mIn[277], line 4\u001b[0m\n\u001b[0;32m      2\u001b[0m \u001b[38;5;28;01mimport\u001b[39;00m \u001b[38;5;21;01mpandas\u001b[39;00m \u001b[38;5;28;01mas\u001b[39;00m \u001b[38;5;21;01mpd\u001b[39;00m\n\u001b[0;32m      3\u001b[0m df_exportaciones\u001b[38;5;241m=\u001b[39m{ \u001b[38;5;124m'\u001b[39m\u001b[38;5;124mrubro\u001b[39m\u001b[38;5;124m'\u001b[39m,\u001b[38;5;124m'\u001b[39m\u001b[38;5;124mprovincia\u001b[39m\u001b[38;5;124m'\u001b[39m,\u001b[38;5;124m'\u001b[39m\u001b[38;5;124manio\u001b[39m\u001b[38;5;124m'\u001b[39m,\u001b[38;5;124m'\u001b[39m\u001b[38;5;124mvalue\u001b[39m\u001b[38;5;124m'\u001b[39m}\n\u001b[1;32m----> 4\u001b[0m df\u001b[38;5;241m=\u001b[39mpd\u001b[38;5;241m.\u001b[39mdataframe(df_exportaciones)\n\u001b[0;32m      5\u001b[0m exportaciones_catamarca\u001b[38;5;241m=\u001b[39mdf_exportaciones[df_exportaciones[\u001b[38;5;124m'\u001b[39m\u001b[38;5;124mprovincia\u001b[39m\u001b[38;5;124m'\u001b[39m]\u001b[38;5;241m==\u001b[39m\u001b[38;5;124m'\u001b[39m\u001b[38;5;124mcatamarca\u001b[39m\u001b[38;5;124m'\u001b[39m]\n\u001b[0;32m      6\u001b[0m \u001b[38;5;28mprint\u001b[39m(\u001b[38;5;124m'\u001b[39m\u001b[38;5;124mexportaciones_catamarca\u001b[39m\u001b[38;5;124m'\u001b[39m)\n",
      "\u001b[1;31mAttributeError\u001b[0m: module 'pandas' has no attribute 'dataframe'"
     ]
    }
   ],
   "source": [
    "#aplicar filtro para selecionar los datos de una region especifica\n",
    "import pandas as pd\n",
    "df_exportaciones={ 'rubro','provincia','anio','value'}\n",
    "df=pd.dataframe(df_exportaciones)\n",
    "exportaciones_catamarca=df_exportaciones[df_exportaciones['provincia']=='catamarca']\n",
    "print('exportaciones_catamarca')"
   ]
  },
  {
   "cell_type": "code",
   "execution_count": null,
   "id": "e38ec9ba-48d4-41d1-b0c9-b067d1179e9e",
   "metadata": {},
   "outputs": [],
   "source": []
  },
  {
   "cell_type": "code",
   "execution_count": null,
   "id": "97f94007-3393-49ae-93d9-000825b27f22",
   "metadata": {},
   "outputs": [],
   "source": []
  }
 ],
 "metadata": {
  "kernelspec": {
   "display_name": "Python 3 (ipykernel)",
   "language": "python",
   "name": "python3"
  },
  "language_info": {
   "codemirror_mode": {
    "name": "ipython",
    "version": 3
   },
   "file_extension": ".py",
   "mimetype": "text/x-python",
   "name": "python",
   "nbconvert_exporter": "python",
   "pygments_lexer": "ipython3",
   "version": "3.11.7"
  }
 },
 "nbformat": 4,
 "nbformat_minor": 5
}
